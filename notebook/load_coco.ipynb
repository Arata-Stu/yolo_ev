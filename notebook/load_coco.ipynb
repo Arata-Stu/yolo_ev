{
 "cells": [
  {
   "cell_type": "code",
   "execution_count": null,
   "metadata": {},
   "outputs": [],
   "source": [
    "import yaml\n",
    "from omegaconf import OmegaConf\n",
    "from yolo_ev.module.model_module import ModelModule\n",
    "from yolo_ev.module.data_module import DataModule\n",
    "\n",
    "import pytorch_lightning as pl\n",
    "from pytorch_lightning.callbacks import ModelCheckpoint\n",
    "from pytorch_lightning import loggers as pl_loggers\n",
    "\n",
    "\n",
    "save_dir = './result'\n",
    "\n",
    "yaml_file = \"./../config/param.yaml\"\n",
    "with open(yaml_file, 'r') as file:\n",
    "    config = yaml.safe_load(file)\n",
    "config = OmegaConf.create(config)\n",
    "\n",
    "data = DataModule(config)\n",
    "model = ModelModule(config)\n",
    "\n"
   ]
  },
  {
   "cell_type": "code",
   "execution_count": null,
   "metadata": {},
   "outputs": [],
   "source": [
    "data.setup('fit')"
   ]
  },
  {
   "cell_type": "code",
   "execution_count": null,
   "metadata": {},
   "outputs": [],
   "source": [
    "from torch.utils.data import DataLoader\n",
    "dataset = data.train_dataset\n",
    "dataloader = DataLoader(dataset)\n"
   ]
  },
  {
   "cell_type": "code",
   "execution_count": null,
   "metadata": {},
   "outputs": [],
   "source": [
    "data_iter = iter(dataloader)\n",
    "img, target, info, id = data_iter._next_data()\n",
    "print(img.shape)\n",
    "print(target.shape)"
   ]
  },
  {
   "cell_type": "code",
   "execution_count": null,
   "metadata": {},
   "outputs": [],
   "source": [
    "import matplotlib.pyplot as plt\n",
    "import numpy as np\n",
    "\n",
    "def visualize_img_and_bboxes(img, target):\n",
    "    \"\"\"\n",
    "    画像とターゲット (バウンディングボックス) を可視化する関数\n",
    "    \n",
    "    Parameters:\n",
    "    - img: テンソル (C, H, W) 形式の画像データ\n",
    "    - target: (N, 5) 形式のターゲットデータ。各行が [cls_id, cx, cy, w, h] 形式で表される。\n",
    "    \"\"\"\n",
    "    \n",
    "    # imgをnumpyに変換して順番を変える\n",
    "    img_np = img.permute(1, 2, 0).cpu().numpy()  # [C, H, W] -> [H, W, C]に変換\n",
    "    if img_np.max() > 1.0:\n",
    "        img_np = img_np / 255.0\n",
    "\n",
    "    # 画像サイズを取得\n",
    "    img_height, img_width, _ = img_np.shape\n",
    "\n",
    "    # imgの表示\n",
    "    plt.figure(figsize=(10, 10))\n",
    "    plt.imshow(img_np)\n",
    "    plt.axis('off')\n",
    "\n",
    "    # targetに含まれるbounding boxをプロット\n",
    "    for i in range(target.shape[0]):  # targetの50はboxの数\n",
    "        cls_id, cx, cy, w, h = target[i]\n",
    "        # バウンディングボックスの座標を計算 (cx, cy) は中心座標、w, h は幅と高さ\n",
    "\n",
    "        # 正確な座標計算を確認するため、スケーリングに注意\n",
    "        x1 = (cx - w / 2)  # 左上のx座標\n",
    "        y1 = (cy - h / 2)  # 左上のy座標\n",
    "        x2 = (cx + w / 2)  # 右下のx座標\n",
    "        y2 = (cy + h / 2) \n",
    "\n",
    "        # バウンディングボックスの描画\n",
    "        plt.gca().add_patch(plt.Rectangle((x1, y1), x2 - x1, y2 - y1, \n",
    "                                          fill=False, edgecolor='red', linewidth=2))\n",
    "\n",
    "        # クラスIDをバウンディングボックスの上に表示（任意）\n",
    "        plt.text(x1, y1, f'Class: {int(cls_id)}', color='yellow', fontsize=12, \n",
    "                 bbox=dict(facecolor='red', alpha=0.5))\n",
    "\n",
    "    # プロットの表示\n",
    "    plt.show()\n"
   ]
  },
  {
   "cell_type": "code",
   "execution_count": null,
   "metadata": {},
   "outputs": [],
   "source": [
    "visualize_img_and_bboxes(img[0], target[0])"
   ]
  },
  {
   "cell_type": "code",
   "execution_count": null,
   "metadata": {},
   "outputs": [],
   "source": [
    "def vis(img, target):\n",
    "    \"\"\"\n",
    "    画像とターゲット (バウンディングボックス) を可視化する関数\n",
    "    \n",
    "    Parameters:\n",
    "    - img: テンソル (C, H, W) 形式の画像データ\n",
    "    - target: (N, 5) 形式のターゲットデータ。各行が [cls_id, cx, cy, w, h] 形式で表される。\n",
    "    \"\"\"\n",
    "    \n",
    "    # imgをnumpyに変換して順番を変える\n",
    "    img_np = img.transpose(1, 2, 0)\n",
    "    if img_np.max() > 1.0:\n",
    "        img_np = img_np / 255.0\n",
    "\n",
    "    # 画像サイズを取得\n",
    "    img_height, img_width, _ = img_np.shape\n",
    "\n",
    "    # imgの表示\n",
    "    plt.figure(figsize=(10, 10))\n",
    "    plt.imshow(img_np)\n",
    "    plt.axis('off')\n",
    "\n",
    "    # targetに含まれるbounding boxをプロット\n",
    "    for i in range(target.shape[0]):  # targetの50はboxの数\n",
    "        cls_id, cx, cy, w, h = target[i]\n",
    "        # バウンディングボックスの座標を計算 (cx, cy) は中心座標、w, h は幅と高さ\n",
    "\n",
    "        # 正確な座標計算を確認するため、スケーリングに注意\n",
    "        x1 = (cx - w / 2)  # 左上のx座標\n",
    "        y1 = (cy - h / 2)  # 左上のy座標\n",
    "        x2 = (cx + w / 2)  # 右下のx座標\n",
    "        y2 = (cy + h / 2) \n",
    "\n",
    "        # バウンディングボックスの描画\n",
    "        plt.gca().add_patch(plt.Rectangle((x1, y1), x2 - x1, y2 - y1, \n",
    "                                          fill=False, edgecolor='red', linewidth=2))\n",
    "\n",
    "        # クラスIDをバウンディングボックスの上に表示（任意）\n",
    "        plt.text(x1, y1, f'Class: {int(cls_id)}', color='yellow', fontsize=12, \n",
    "                 bbox=dict(facecolor='red', alpha=0.5))\n",
    "\n",
    "    # プロットの表示\n",
    "    plt.show()"
   ]
  },
  {
   "cell_type": "code",
   "execution_count": null,
   "metadata": {},
   "outputs": [],
   "source": [
    "img, target, info, id = dataset[0]"
   ]
  },
  {
   "cell_type": "code",
   "execution_count": null,
   "metadata": {},
   "outputs": [],
   "source": [
    "img.shape"
   ]
  },
  {
   "cell_type": "code",
   "execution_count": null,
   "metadata": {},
   "outputs": [],
   "source": [
    "vis(img, target)"
   ]
  },
  {
   "cell_type": "code",
   "execution_count": null,
   "metadata": {},
   "outputs": [],
   "source": []
  }
 ],
 "metadata": {
  "kernelspec": {
   "display_name": "yolo_env",
   "language": "python",
   "name": "python3"
  },
  "language_info": {
   "codemirror_mode": {
    "name": "ipython",
    "version": 3
   },
   "file_extension": ".py",
   "mimetype": "text/x-python",
   "name": "python",
   "nbconvert_exporter": "python",
   "pygments_lexer": "ipython3",
   "version": "3.9.19"
  }
 },
 "nbformat": 4,
 "nbformat_minor": 2
}
