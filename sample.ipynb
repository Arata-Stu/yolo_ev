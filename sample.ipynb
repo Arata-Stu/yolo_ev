{
 "cells": [
  {
   "cell_type": "code",
   "execution_count": null,
   "metadata": {},
   "outputs": [],
   "source": [
    "import yaml\n",
    "from omegaconf import OmegaConf\n",
    "from yolo_ev.module.model_module import ModelModule\n",
    "from yolo_ev.module.data_module import DataModule\n",
    "\n",
    "import pytorch_lightning as pl\n",
    "from pytorch_lightning.callbacks import ModelCheckpoint\n",
    "from pytorch_lightning import loggers as pl_loggers\n",
    "\n",
    "\n",
    "save_dir = './result'\n",
    "\n",
    "yaml_file = \"./config/param.yaml\"\n",
    "with open(yaml_file, 'r') as file:\n",
    "    config = yaml.safe_load(file)\n",
    "config = OmegaConf.create(config)\n",
    "\n",
    "data = DataModule(config)\n",
    "model = ModelModule(config)\n",
    "\n"
   ]
  },
  {
   "cell_type": "code",
   "execution_count": null,
   "metadata": {},
   "outputs": [],
   "source": [
    "data.setup('fit')"
   ]
  },
  {
   "cell_type": "code",
   "execution_count": null,
   "metadata": {},
   "outputs": [],
   "source": [
    "from torch.utils.data import DataLoader\n",
    "dataset = data.valid_dataset\n",
    "dataloader = DataLoader(dataset)\n"
   ]
  },
  {
   "cell_type": "code",
   "execution_count": null,
   "metadata": {},
   "outputs": [],
   "source": [
    "data_iter = iter(dataloader)\n",
    "img, target, info, id = data_iter._next_data()"
   ]
  },
  {
   "cell_type": "code",
   "execution_count": null,
   "metadata": {},
   "outputs": [],
   "source": [
    "target"
   ]
  },
  {
   "cell_type": "code",
   "execution_count": null,
   "metadata": {},
   "outputs": [],
   "source": [
    "import torch\n",
    "output_postprocessed = [torch.tensor([[217.6200, 240.5400, 256.6100, 298.2900, 0.9 , 0.9,   39.0000],\n",
    "         [  1.0000, 240.2400, 347.6300, 427.0000, 0.9 , 0.9,  60.0000],\n",
    "         [388.6600,  69.9200, 498.0700, 347.5400, 0.9 , 0.9,   0.0000],\n",
    "         [135.5700, 249.4300, 157.8900, 278.2200, 0.9 , 0.9,  43.0000],\n",
    "         [ 31.2800, 344.0000,  99.4000, 384.8300, 0.9 , 0.9,  45.0000],\n",
    "         [ 59.6300, 287.3600, 135.7000, 328.6600, 0.9 , 0.9,  45.0000],\n",
    "         [  1.3600, 164.3300, 193.9200, 262.7000, 0.9 , 0.9,  69.0000],\n",
    "         [  0.0000, 262.8100,  62.1600, 299.5800, 0.9 , 0.9,   0.0000],\n",
    "         [119.4000, 272.5100, 144.2200, 306.7600, 0.9 , 0.9,  41.0000],\n",
    "         [141.4700, 267.9100, 173.6600, 303.7700, 0.9 , 0.9,  41.0000],\n",
    "         [155.9700, 168.9500, 182.0000, 186.0800, 0.9 , 0.9,  45.0000],\n",
    "         [157.2000, 114.1500, 175.0600, 129.9700, 0.9 , 0.9,  45.0000],\n",
    "         [ 98.7500, 304.7800, 109.5300, 310.3500, 0.9 , 0.9,  50.0000],\n",
    "         [166.0300, 256.3600, 174.8500, 274.9400, 0.9 , 0.9,  44.0000],\n",
    "         [ 86.4100, 293.9700, 110.3700, 305.1500, 0.9 , 0.9,  50.0000],\n",
    "         [ 70.1400, 296.1600,  79.4200, 300.7400, 0.9 , 0.9,  50.0000],\n",
    "         [  0.0000, 210.9000, 191.3600, 309.8800, 0.9 , 0.9,  69.0000],\n",
    "         [ 96.6900, 297.0900, 104.5300, 301.9500, 0.9 , 0.9,  51.0000],\n",
    "         [497.2500, 203.4000, 619.2600, 232.0100, 0.9 , 0.9,  71.0000]])]\n"
   ]
  },
  {
   "cell_type": "code",
   "execution_count": null,
   "metadata": {},
   "outputs": [],
   "source": [
    "from yolo_ev.utils.eval.evaluation import to_coco_format, evaluation\n",
    "from yolo_ev.module.data.dataset.coco.coco_classes import COCO_CLASSES\n",
    "\n",
    "categories = [{\"id\": id+1 , \"name\": class_name, \"supercategory\": \"none\"}\n",
    "                  for id, class_name in enumerate(COCO_CLASSES)]\n",
    "dataset, result = to_coco_format(gts=target, detections=output_postprocessed, categories=categories)"
   ]
  },
  {
   "cell_type": "code",
   "execution_count": null,
   "metadata": {},
   "outputs": [],
   "source": [
    "result"
   ]
  },
  {
   "cell_type": "code",
   "execution_count": null,
   "metadata": {},
   "outputs": [],
   "source": [
    "dataset"
   ]
  },
  {
   "cell_type": "code",
   "execution_count": null,
   "metadata": {},
   "outputs": [],
   "source": [
    "\n",
    "scores = evaluation(Gt=dataset, Dt=result, num_data=1)"
   ]
  },
  {
   "cell_type": "code",
   "execution_count": null,
   "metadata": {},
   "outputs": [],
   "source": [
    "scores['AP']"
   ]
  },
  {
   "cell_type": "code",
   "execution_count": null,
   "metadata": {},
   "outputs": [],
   "source": [
    "import torch\n",
    "\n",
    "ckpt = torch.load(\"./weight/yolox_m.pth\")\n",
    "model.model.load_state_dict(ckpt['model'])"
   ]
  },
  {
   "cell_type": "code",
   "execution_count": null,
   "metadata": {},
   "outputs": [],
   "source": []
  }
 ],
 "metadata": {
  "kernelspec": {
   "display_name": "yolo_env",
   "language": "python",
   "name": "python3"
  },
  "language_info": {
   "codemirror_mode": {
    "name": "ipython",
    "version": 3
   },
   "file_extension": ".py",
   "mimetype": "text/x-python",
   "name": "python",
   "nbconvert_exporter": "python",
   "pygments_lexer": "ipython3",
   "version": "3.9.19"
  }
 },
 "nbformat": 4,
 "nbformat_minor": 2
}
