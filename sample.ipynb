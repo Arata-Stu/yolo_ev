{
 "cells": [
  {
   "cell_type": "code",
   "execution_count": 1,
   "metadata": {},
   "outputs": [],
   "source": [
    "import yaml\n",
    "from omegaconf import OmegaConf\n",
    "from yolo_ev.module.model_module import ModelModule\n",
    "from yolo_ev.module.data_module import DataModule\n",
    "\n",
    "import pytorch_lightning as pl\n",
    "from pytorch_lightning.callbacks import ModelCheckpoint\n",
    "from pytorch_lightning import loggers as pl_loggers\n",
    "\n",
    "\n",
    "save_dir = './result'\n",
    "\n",
    "yaml_file = \"./config/param.yaml\"\n",
    "with open(yaml_file, 'r') as file:\n",
    "    config = yaml.safe_load(file)\n",
    "config = OmegaConf.create(config)\n",
    "\n",
    "data = DataModule(config)\n",
    "model = ModelModule(config)\n",
    "\n"
   ]
  },
  {
   "cell_type": "code",
   "execution_count": 2,
   "metadata": {},
   "outputs": [
    {
     "name": "stderr",
     "output_type": "stream",
     "text": [
      "/tmp/ipykernel_11828/3857328782.py:3: FutureWarning: You are using `torch.load` with `weights_only=False` (the current default value), which uses the default pickle module implicitly. It is possible to construct malicious pickle data which will execute arbitrary code during unpickling (See https://github.com/pytorch/pytorch/blob/main/SECURITY.md#untrusted-models for more details). In a future release, the default value for `weights_only` will be flipped to `True`. This limits the functions that could be executed during unpickling. Arbitrary objects will no longer be allowed to be loaded via this mode unless they are explicitly allowlisted by the user via `torch.serialization.add_safe_globals`. We recommend you start setting `weights_only=True` for any use case where you don't have full control of the loaded file. Please open an issue on GitHub for any issues related to this experimental feature.\n",
      "  ckpt = torch.load(\"./weight/yolox_m.pth\")\n"
     ]
    },
    {
     "data": {
      "text/plain": [
       "<All keys matched successfully>"
      ]
     },
     "execution_count": 2,
     "metadata": {},
     "output_type": "execute_result"
    }
   ],
   "source": [
    "import torch\n",
    "\n",
    "ckpt = torch.load(\"./weight/yolox_m.pth\")\n",
    "model.model.load_state_dict(ckpt['model'])"
   ]
  },
  {
   "cell_type": "code",
   "execution_count": null,
   "metadata": {},
   "outputs": [],
   "source": [
    "\n",
    "    callbacks = [\n",
    "        ModelCheckpoint(\n",
    "            dirpath=save_dir,\n",
    "            filename='epoch{epoch:02d}-val_loss{val_loss:.2f}', # チェックポイントのファイル名の形式\n",
    "            monitor='val_loss',                                 # 基準とする量\n",
    "            mode=\"min\",                                         # 最小となるところを探す\n",
    "        ),  \n",
    "    ]\n",
    "    trainer = pl.Trainer(\n",
    "        max_epochs=config.training.max_epoch,\n",
    "        max_steps= config.training.max_step,\n",
    "        logger=[pl_loggers.TensorBoardLogger(save_dir=save_dir)],\n",
    "        callbacks=callbacks,\n",
    "        accelerator='gpu',\n",
    "        devices=[0],                            # 使用するGPUのIDのリスト\n",
    "        # auto_lr_find=True,                      # learning rateを自動で設定するか\n",
    "        # accumulate_grad_batches=1,              # 勾配を累積して一度に更新することでバッチサイズを仮想的にN倍にする際のN\n",
    "        # gradient_clip_val=1,                    # 勾配クリッピングの値\n",
    "        # fast_dev_run=True,                      # デバッグ時にonにすると、1回だけtrain,validを実行する\n",
    "        # overfit_batches=1.0,                    # デバッグ時にonにすると、train = validで学習が進み、過学習できているかを確認できる\n",
    "        # deterministic=True,                     # 再現性のために乱数シードを固定するか\n",
    "        # resume_from_checkpoint='bbb/aaa.ckpt',  # チェックポイントから再開する場合に利用\n",
    "        # precision=16,                           # 小数を何ビットで表現するか\n",
    "        # amp_backend=\"apex\",                     # 少数の混合方式を使用するかどうか。nvidiaのapexがインストールされている必要あり。\n",
    "        benchmark=True,                         # cudnn.benchmarkを使用して高速化するか（determisticがTrueの場合はFalseに上書きされる）\n",
    "    )\n",
    "    # trainer.tune(model, datamodule=data_module)   # 「auto_lr_find=True」を指定した場合に実行する\n",
    "    \n",
    "    trainer.fit(model, datamodule=data)\n",
    "    # trainer.test(model, datamodule=data)"
   ]
  }
 ],
 "metadata": {
  "kernelspec": {
   "display_name": "yolo_env",
   "language": "python",
   "name": "python3"
  },
  "language_info": {
   "codemirror_mode": {
    "name": "ipython",
    "version": 3
   },
   "file_extension": ".py",
   "mimetype": "text/x-python",
   "name": "python",
   "nbconvert_exporter": "python",
   "pygments_lexer": "ipython3",
   "version": "3.9.20"
  }
 },
 "nbformat": 4,
 "nbformat_minor": 2
}
